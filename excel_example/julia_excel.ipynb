{
 "cells": [
  {
   "cell_type": "markdown",
   "metadata": {},
   "source": [
    "# 使用Julia excel package\n",
    "### https://github.com/felipenoris/XLSX.jl"
   ]
  },
  {
   "cell_type": "markdown",
   "metadata": {},
   "source": [
    "## 加入XLSX套件到Julia"
   ]
  },
  {
   "cell_type": "code",
   "execution_count": null,
   "metadata": {},
   "outputs": [],
   "source": [
    "using Pkg\n",
    "Pkg.add(\"XLSX\")\n",
    "Pkg.add(\"DataFrames\")"
   ]
  },
  {
   "cell_type": "markdown",
   "metadata": {},
   "source": [
    "### import XLSX package"
   ]
  },
  {
   "cell_type": "code",
   "execution_count": 112,
   "metadata": {},
   "outputs": [
    {
     "ename": "ArgumentError",
     "evalue": "ArgumentError: Package Symbol not found in current path:\n- Run `import Pkg; Pkg.add(\"Symbol\")` to install the Symbol package.\n",
     "output_type": "error",
     "traceback": [
      "ArgumentError: Package Symbol not found in current path:\n- Run `import Pkg; Pkg.add(\"Symbol\")` to install the Symbol package.\n",
      "",
      "Stacktrace:",
      " [1] require(::Module, ::Symbol) at .\\loading.jl:823",
      " [2] top-level scope at In[112]:3"
     ]
    }
   ],
   "source": [
    "using XLSX\n",
    "using DataFrames"
   ]
  },
  {
   "cell_type": "code",
   "execution_count": 122,
   "metadata": {},
   "outputs": [
    {
     "name": "stdout",
     "output_type": "stream",
     "text": [
      "  0.122482 seconds (502.18 k allocations: 19.009 MiB, 8.05% gc time)\n"
     ]
    },
    {
     "data": {
      "text/plain": [
       "XLSXFile(\"20170117_1.xlsx\") containing 1 Worksheets\n",
       "            sheetname size          range        \n",
       "-------------------------------------------------\n",
       "              工作表1 42x9          A1:I42       \n"
      ]
     },
     "execution_count": 122,
     "metadata": {},
     "output_type": "execute_result"
    }
   ],
   "source": [
    "example_xlsx = \"20170117_1.xlsx\"\n",
    "@time xf = XLSX.readxlsx(example_xlsx)"
   ]
  },
  {
   "cell_type": "code",
   "execution_count": 123,
   "metadata": {},
   "outputs": [
    {
     "name": "stdout",
     "output_type": "stream",
     "text": [
      "Sheet size is (1,)\n",
      "Sheet1:工作表1\n"
     ]
    }
   ],
   "source": [
    "sheetname = XLSX.sheetnames(xf)\n",
    "println(\"Sheet size is \", size(sheetname))\n",
    "for i in 1:1:size(sheetname)[1]\n",
    "    println(\"Sheet\", i, \":\", sheetname[i]) \n",
    "end"
   ]
  },
  {
   "cell_type": "code",
   "execution_count": 128,
   "metadata": {},
   "outputs": [
    {
     "data": {
      "text/html": [
       "<table class=\"data-frame\"><thead><tr><th></th><th>學年度</th><th>項目</th><th>公立大專校院</th><th>私立大專校院</th><th>小計1</th><th>公立高中職</th><th>私立高中職</th><th>小計2</th><th>合計</th></tr><tr><th></th><th>Any</th><th>Any</th><th>Any</th><th>Any</th><th>Any</th><th>Any</th><th>Any</th><th>Any</th><th>Any</th></tr></thead><tbody><p>39 rows × 9 columns</p><tr><th>1</th><td>92</td><td>貸款人次</td><td>89932</td><td>430947</td><td>520879</td><td>22128</td><td>136193</td><td>158321</td><td>679200</td></tr><tr><th>2</th><td>missing</td><td>貸款人數</td><td>49189</td><td>239672</td><td>288861</td><td>12820</td><td>76528</td><td>89348</td><td>378209</td></tr><tr><th>3</th><td>missing</td><td>貸款金額</td><td>2561172994</td><td>18974472765</td><td>21535645759</td><td>211485065</td><td>3586399845</td><td>3797884910</td><td>25333530669</td></tr><tr><th>4</th><td>93</td><td>貸款人次</td><td>94907</td><td>442639</td><td>537546</td><td>19468</td><td>137419</td><td>156887</td><td>694433</td></tr><tr><th>5</th><td>missing</td><td>貸款人數</td><td>51766</td><td>241307</td><td>293073</td><td>11267</td><td>76658</td><td>87925</td><td>380998</td></tr><tr><th>6</th><td>missing</td><td>貸款金額</td><td>2782216649</td><td>20014674444</td><td>22796891093</td><td>182738367</td><td>3516848051</td><td>3699586418</td><td>26496477511</td></tr><tr><th>7</th><td>94</td><td>貸款人次</td><td>100045</td><td>444350</td><td>544395</td><td>16604</td><td>137409</td><td>154013</td><td>698408</td></tr><tr><th>8</th><td>missing</td><td>貸款人數</td><td>54392</td><td>243033</td><td>297425</td><td>9594</td><td>76574</td><td>86168</td><td>383593</td></tr><tr><th>9</th><td>missing</td><td>貸款金額</td><td>2951666545</td><td>20488673303</td><td>23440339848</td><td>157137519</td><td>3560035825</td><td>3717173344</td><td>27157513192</td></tr><tr><th>10</th><td>95</td><td>貸款人次</td><td>105843</td><td>463928</td><td>569771</td><td>17709</td><td>140597</td><td>158306</td><td>728077</td></tr><tr><th>11</th><td>missing</td><td>貸款人數</td><td>57056</td><td>258009</td><td>315065</td><td>10315</td><td>78546</td><td>88861</td><td>403926</td></tr><tr><th>12</th><td>missing</td><td>貸款金額</td><td>3122087614</td><td>21230635937</td><td>24352723551</td><td>167333172</td><td>3601208962</td><td>3768542134</td><td>28121265685</td></tr><tr><th>13</th><td>96</td><td>貸款人次</td><td>112195</td><td>480500</td><td>592695</td><td>20190</td><td>146710</td><td>166900</td><td>759595</td></tr><tr><th>14</th><td>missing</td><td>貸款人數</td><td>60426</td><td>260362</td><td>320788</td><td>11618</td><td>81135</td><td>92753</td><td>413541</td></tr><tr><th>15</th><td>missing</td><td>貸款金額</td><td>3256270580</td><td>21480676106</td><td>24736946686</td><td>190700644</td><td>3700077061</td><td>3890777705</td><td>28627724391</td></tr><tr><th>16</th><td>97</td><td>貸款人次</td><td>122434</td><td>504283</td><td>626717</td><td>21764</td><td>152328</td><td>174092</td><td>800809</td></tr><tr><th>17</th><td>missing</td><td>貸款人數</td><td>67803</td><td>279651</td><td>347454</td><td>13055</td><td>86324</td><td>99379</td><td>446833</td></tr><tr><th>18</th><td>missing</td><td>貸款金額</td><td>3536802190</td><td>22526677395</td><td>26063479585</td><td>199184668</td><td>3643208498</td><td>3842393166</td><td>29905872751</td></tr><tr><th>19</th><td>98</td><td>貸款人次</td><td>130559</td><td>516436</td><td>646995</td><td>22742</td><td>147669</td><td>170411</td><td>817406</td></tr><tr><th>20</th><td>missing</td><td>貸款人數</td><td>70618</td><td>281853</td><td>352471</td><td>13144</td><td>81647</td><td>94791</td><td>447262</td></tr><tr><th>21</th><td>missing</td><td>貸款金額</td><td>3759489393</td><td>22985155441</td><td>26744644834</td><td>206680340</td><td>3250630218</td><td>3457310558</td><td>30201955392</td></tr><tr><th>22</th><td>99</td><td>貸款人次</td><td>130247</td><td>512092</td><td>642339</td><td>20376</td><td>114590</td><td>134966</td><td>777305</td></tr><tr><th>23</th><td>missing</td><td>貸款人數</td><td>71571</td><td>279432</td><td>351003</td><td>11711</td><td>65187</td><td>76898</td><td>427901</td></tr><tr><th>24</th><td>missing</td><td>貸款金額</td><td>3714120274</td><td>22520631500</td><td>26234751774</td><td>187322754</td><td>1701419223</td><td>1888741977</td><td>28123493751</td></tr><tr><th>25</th><td>100</td><td>貸款人次</td><td>127019</td><td>501683</td><td>628702</td><td>11715</td><td>69564</td><td>81279</td><td>709981</td></tr><tr><th>26</th><td>missing</td><td>貸款人數</td><td>71357</td><td>277099</td><td>348456</td><td>6984</td><td>40456</td><td>47440</td><td>395896</td></tr><tr><th>27</th><td>missing</td><td>貸款金額</td><td>3656636118</td><td>22016149726</td><td>25672785844</td><td>95582291</td><td>754451183</td><td>850033474</td><td>26522819318</td></tr><tr><th>28</th><td>101</td><td>貸款人次</td><td>122774</td><td>485818</td><td>608592</td><td>8479</td><td>47824</td><td>56303</td><td>664895</td></tr><tr><th>29</th><td>missing</td><td>貸款人數</td><td>66859</td><td>267805</td><td>334664</td><td>5078</td><td>27986</td><td>33064</td><td>367728</td></tr><tr><th>30</th><td>missing</td><td>貸款金額</td><td>3568447409</td><td>21538156905</td><td>25106604314</td><td>82432442</td><td>594944354</td><td>677376796</td><td>25783981110</td></tr><tr><th>&vellip;</th><td>&vellip;</td><td>&vellip;</td><td>&vellip;</td><td>&vellip;</td><td>&vellip;</td><td>&vellip;</td><td>&vellip;</td><td>&vellip;</td><td>&vellip;</td></tr></tbody></table>"
      ],
      "text/latex": [
       "\\begin{tabular}{r|ccccccccc}\n",
       "\t& 學年度 & 項目 & 公立大專校院 & 私立大專校院 & 小計1 & 公立高中職 & 私立高中職 & 小計2 & 合計\\\\\n",
       "\t\\hline\n",
       "\t& Any & Any & Any & Any & Any & Any & Any & Any & Any\\\\\n",
       "\t\\hline\n",
       "\t1 & 92 & 貸款人次 & 89932 & 430947 & 520879 & 22128 & 136193 & 158321 & 679200 \\\\\n",
       "\t2 &  & 貸款人數 & 49189 & 239672 & 288861 & 12820 & 76528 & 89348 & 378209 \\\\\n",
       "\t3 &  & 貸款金額 & 2561172994 & 18974472765 & 21535645759 & 211485065 & 3586399845 & 3797884910 & 25333530669 \\\\\n",
       "\t4 & 93 & 貸款人次 & 94907 & 442639 & 537546 & 19468 & 137419 & 156887 & 694433 \\\\\n",
       "\t5 &  & 貸款人數 & 51766 & 241307 & 293073 & 11267 & 76658 & 87925 & 380998 \\\\\n",
       "\t6 &  & 貸款金額 & 2782216649 & 20014674444 & 22796891093 & 182738367 & 3516848051 & 3699586418 & 26496477511 \\\\\n",
       "\t7 & 94 & 貸款人次 & 100045 & 444350 & 544395 & 16604 & 137409 & 154013 & 698408 \\\\\n",
       "\t8 &  & 貸款人數 & 54392 & 243033 & 297425 & 9594 & 76574 & 86168 & 383593 \\\\\n",
       "\t9 &  & 貸款金額 & 2951666545 & 20488673303 & 23440339848 & 157137519 & 3560035825 & 3717173344 & 27157513192 \\\\\n",
       "\t10 & 95 & 貸款人次 & 105843 & 463928 & 569771 & 17709 & 140597 & 158306 & 728077 \\\\\n",
       "\t11 &  & 貸款人數 & 57056 & 258009 & 315065 & 10315 & 78546 & 88861 & 403926 \\\\\n",
       "\t12 &  & 貸款金額 & 3122087614 & 21230635937 & 24352723551 & 167333172 & 3601208962 & 3768542134 & 28121265685 \\\\\n",
       "\t13 & 96 & 貸款人次 & 112195 & 480500 & 592695 & 20190 & 146710 & 166900 & 759595 \\\\\n",
       "\t14 &  & 貸款人數 & 60426 & 260362 & 320788 & 11618 & 81135 & 92753 & 413541 \\\\\n",
       "\t15 &  & 貸款金額 & 3256270580 & 21480676106 & 24736946686 & 190700644 & 3700077061 & 3890777705 & 28627724391 \\\\\n",
       "\t16 & 97 & 貸款人次 & 122434 & 504283 & 626717 & 21764 & 152328 & 174092 & 800809 \\\\\n",
       "\t17 &  & 貸款人數 & 67803 & 279651 & 347454 & 13055 & 86324 & 99379 & 446833 \\\\\n",
       "\t18 &  & 貸款金額 & 3536802190 & 22526677395 & 26063479585 & 199184668 & 3643208498 & 3842393166 & 29905872751 \\\\\n",
       "\t19 & 98 & 貸款人次 & 130559 & 516436 & 646995 & 22742 & 147669 & 170411 & 817406 \\\\\n",
       "\t20 &  & 貸款人數 & 70618 & 281853 & 352471 & 13144 & 81647 & 94791 & 447262 \\\\\n",
       "\t21 &  & 貸款金額 & 3759489393 & 22985155441 & 26744644834 & 206680340 & 3250630218 & 3457310558 & 30201955392 \\\\\n",
       "\t22 & 99 & 貸款人次 & 130247 & 512092 & 642339 & 20376 & 114590 & 134966 & 777305 \\\\\n",
       "\t23 &  & 貸款人數 & 71571 & 279432 & 351003 & 11711 & 65187 & 76898 & 427901 \\\\\n",
       "\t24 &  & 貸款金額 & 3714120274 & 22520631500 & 26234751774 & 187322754 & 1701419223 & 1888741977 & 28123493751 \\\\\n",
       "\t25 & 100 & 貸款人次 & 127019 & 501683 & 628702 & 11715 & 69564 & 81279 & 709981 \\\\\n",
       "\t26 &  & 貸款人數 & 71357 & 277099 & 348456 & 6984 & 40456 & 47440 & 395896 \\\\\n",
       "\t27 &  & 貸款金額 & 3656636118 & 22016149726 & 25672785844 & 95582291 & 754451183 & 850033474 & 26522819318 \\\\\n",
       "\t28 & 101 & 貸款人次 & 122774 & 485818 & 608592 & 8479 & 47824 & 56303 & 664895 \\\\\n",
       "\t29 &  & 貸款人數 & 66859 & 267805 & 334664 & 5078 & 27986 & 33064 & 367728 \\\\\n",
       "\t30 &  & 貸款金額 & 3568447409 & 21538156905 & 25106604314 & 82432442 & 594944354 & 677376796 & 25783981110 \\\\\n",
       "\t$\\dots$ & $\\dots$ & $\\dots$ & $\\dots$ & $\\dots$ & $\\dots$ & $\\dots$ & $\\dots$ & $\\dots$ & $\\dots$ \\\\\n",
       "\\end{tabular}\n"
      ],
      "text/plain": [
       "39×9 DataFrame. Omitted printing of 4 columns\n",
       "│ Row │ 學年度  │ 項目     │ 公立大專校院 │ 私立大專校院 │ 小計1       │\n",
       "│     │ \u001b[90mAny\u001b[39m     │ \u001b[90mAny\u001b[39m      │ \u001b[90mAny\u001b[39m          │ \u001b[90mAny\u001b[39m          │ \u001b[90mAny\u001b[39m         │\n",
       "├─────┼─────────┼──────────┼──────────────┼──────────────┼─────────────┤\n",
       "│ 1   │ 92      │ 貸款人次 │ 89932        │ 430947       │ 520879      │\n",
       "│ 2   │ \u001b[90mmissing\u001b[39m │ 貸款人數 │ 49189        │ 239672       │ 288861      │\n",
       "│ 3   │ \u001b[90mmissing\u001b[39m │ 貸款金額 │ 2561172994   │ 18974472765  │ 21535645759 │\n",
       "│ 4   │ 93      │ 貸款人次 │ 94907        │ 442639       │ 537546      │\n",
       "│ 5   │ \u001b[90mmissing\u001b[39m │ 貸款人數 │ 51766        │ 241307       │ 293073      │\n",
       "│ 6   │ \u001b[90mmissing\u001b[39m │ 貸款金額 │ 2782216649   │ 20014674444  │ 22796891093 │\n",
       "│ 7   │ 94      │ 貸款人次 │ 100045       │ 444350       │ 544395      │\n",
       "│ 8   │ \u001b[90mmissing\u001b[39m │ 貸款人數 │ 54392        │ 243033       │ 297425      │\n",
       "│ 9   │ \u001b[90mmissing\u001b[39m │ 貸款金額 │ 2951666545   │ 20488673303  │ 23440339848 │\n",
       "│ 10  │ 95      │ 貸款人次 │ 105843       │ 463928       │ 569771      │\n",
       "⋮\n",
       "│ 29  │ \u001b[90mmissing\u001b[39m │ 貸款人數 │ 66859        │ 267805       │ 334664      │\n",
       "│ 30  │ \u001b[90mmissing\u001b[39m │ 貸款金額 │ 3568447409   │ 21538156905  │ 25106604314 │\n",
       "│ 31  │ 102     │ 貸款人次 │ 116562       │ 464142       │ 580704      │\n",
       "│ 32  │ \u001b[90mmissing\u001b[39m │ 貸款人數 │ 63284        │ 254437       │ 317721      │\n",
       "│ 33  │ \u001b[90mmissing\u001b[39m │ 貸款金額 │ 3400742102   │ 20790101243  │ 24190843345 │\n",
       "│ 34  │ 103     │ 貸款人次 │ 109394       │ 436770       │ 546164      │\n",
       "│ 35  │ \u001b[90mmissing\u001b[39m │ 貸款人數 │ 59798        │ 241866       │ 301664      │\n",
       "│ 36  │ \u001b[90mmissing\u001b[39m │ 貸款金額 │ 3194603683   │ 19793570233  │ 22988173916 │\n",
       "│ 37  │ 104     │ 貸款人次 │ 106829       │ 420502       │ 527331      │\n",
       "│ 38  │ \u001b[90mmissing\u001b[39m │ 貸款人數 │ 58177        │ 232881       │ 291058      │\n",
       "│ 39  │ \u001b[90mmissing\u001b[39m │ 貸款金額 │ 3147916118   │ 19005109029  │ 22153025147 │"
      ]
     },
     "execution_count": 128,
     "metadata": {},
     "output_type": "execute_result"
    }
   ],
   "source": [
    "df = DataFrame(XLSX.readdata(example_xlsx, \"工作表1\", \"A3:I42\")) # shorthand for all above\n",
    "names!(df, [Symbol(\"$i\") for i in df[1,:]])\n",
    "deleterows!(df, 1)\n",
    "df"
   ]
  },
  {
   "cell_type": "code",
   "execution_count": 46,
   "metadata": {},
   "outputs": [
    {
     "data": {
      "text/html": [
       "<table class=\"data-frame\"><thead><tr><th></th><th>missing</th></tr><tr><th></th><th>Any</th></tr></thead><tbody><p>40 rows × 1 columns</p><tr><th>1</th><td>項目</td></tr><tr><th>2</th><td>貸款人次</td></tr><tr><th>3</th><td>貸款人數</td></tr><tr><th>4</th><td>貸款金額</td></tr><tr><th>5</th><td>貸款人次</td></tr><tr><th>6</th><td>貸款人數</td></tr><tr><th>7</th><td>貸款金額</td></tr><tr><th>8</th><td>貸款人次</td></tr><tr><th>9</th><td>貸款人數</td></tr><tr><th>10</th><td>貸款金額</td></tr><tr><th>11</th><td>貸款人次</td></tr><tr><th>12</th><td>貸款人數</td></tr><tr><th>13</th><td>貸款金額</td></tr><tr><th>14</th><td>貸款人次</td></tr><tr><th>15</th><td>貸款人數</td></tr><tr><th>16</th><td>貸款金額</td></tr><tr><th>17</th><td>貸款人次</td></tr><tr><th>18</th><td>貸款人數</td></tr><tr><th>19</th><td>貸款金額</td></tr><tr><th>20</th><td>貸款人次</td></tr><tr><th>21</th><td>貸款人數</td></tr><tr><th>22</th><td>貸款金額</td></tr><tr><th>23</th><td>貸款人次</td></tr><tr><th>24</th><td>貸款人數</td></tr><tr><th>25</th><td>貸款金額</td></tr><tr><th>26</th><td>貸款人次</td></tr><tr><th>27</th><td>貸款人數</td></tr><tr><th>28</th><td>貸款金額</td></tr><tr><th>29</th><td>貸款人次</td></tr><tr><th>30</th><td>貸款人數</td></tr><tr><th>&vellip;</th><td>&vellip;</td></tr></tbody></table>"
      ],
      "text/latex": [
       "\\begin{tabular}{r|c}\n",
       "\t& missing\\\\\n",
       "\t\\hline\n",
       "\t& Any\\\\\n",
       "\t\\hline\n",
       "\t1 & 項目 \\\\\n",
       "\t2 & 貸款人次 \\\\\n",
       "\t3 & 貸款人數 \\\\\n",
       "\t4 & 貸款金額 \\\\\n",
       "\t5 & 貸款人次 \\\\\n",
       "\t6 & 貸款人數 \\\\\n",
       "\t7 & 貸款金額 \\\\\n",
       "\t8 & 貸款人次 \\\\\n",
       "\t9 & 貸款人數 \\\\\n",
       "\t10 & 貸款金額 \\\\\n",
       "\t11 & 貸款人次 \\\\\n",
       "\t12 & 貸款人數 \\\\\n",
       "\t13 & 貸款金額 \\\\\n",
       "\t14 & 貸款人次 \\\\\n",
       "\t15 & 貸款人數 \\\\\n",
       "\t16 & 貸款金額 \\\\\n",
       "\t17 & 貸款人次 \\\\\n",
       "\t18 & 貸款人數 \\\\\n",
       "\t19 & 貸款金額 \\\\\n",
       "\t20 & 貸款人次 \\\\\n",
       "\t21 & 貸款人數 \\\\\n",
       "\t22 & 貸款金額 \\\\\n",
       "\t23 & 貸款人次 \\\\\n",
       "\t24 & 貸款人數 \\\\\n",
       "\t25 & 貸款金額 \\\\\n",
       "\t26 & 貸款人次 \\\\\n",
       "\t27 & 貸款人數 \\\\\n",
       "\t28 & 貸款金額 \\\\\n",
       "\t29 & 貸款人次 \\\\\n",
       "\t30 & 貸款人數 \\\\\n",
       "\t$\\dots$ & $\\dots$ \\\\\n",
       "\\end{tabular}\n"
      ],
      "text/plain": [
       "40×1 DataFrame\n",
       "│ Row │ missing  │\n",
       "│     │ \u001b[90mAny\u001b[39m      │\n",
       "├─────┼──────────┤\n",
       "│ 1   │ 項目     │\n",
       "│ 2   │ 貸款人次 │\n",
       "│ 3   │ 貸款人數 │\n",
       "│ 4   │ 貸款金額 │\n",
       "│ 5   │ 貸款人次 │\n",
       "│ 6   │ 貸款人數 │\n",
       "│ 7   │ 貸款金額 │\n",
       "│ 8   │ 貸款人次 │\n",
       "│ 9   │ 貸款人數 │\n",
       "│ 10  │ 貸款金額 │\n",
       "⋮\n",
       "│ 30  │ 貸款人數 │\n",
       "│ 31  │ 貸款金額 │\n",
       "│ 32  │ 貸款人次 │\n",
       "│ 33  │ 貸款人數 │\n",
       "│ 34  │ 貸款金額 │\n",
       "│ 35  │ 貸款人次 │\n",
       "│ 36  │ 貸款人數 │\n",
       "│ 37  │ 貸款金額 │\n",
       "│ 38  │ 貸款人次 │\n",
       "│ 39  │ 貸款人數 │\n",
       "│ 40  │ 貸款金額 │"
      ]
     },
     "execution_count": 46,
     "metadata": {},
     "output_type": "execute_result"
    }
   ],
   "source": [
    "sh = xf[sheetname[1]]\n",
    "df = DataFrame(XLSX.readtable(example_xlsx, \"工作表1\", \"B\", first_row=2, header=true)...)"
   ]
  },
  {
   "cell_type": "code",
   "execution_count": 41,
   "metadata": {},
   "outputs": [
    {
     "data": {
      "text/plain": [
       "(Any[Any[\"私立大專校院\", 430947, 239672, 18974472765, 442639, 241307, 20014674444, 444350, 243033, 20488673303  …  21538156905, 464142, 254437, 20790101243, 436770, 241866, 19793570233, 420502, 232881, 19005109029]], Symbol[:missing])"
      ]
     },
     "execution_count": 41,
     "metadata": {},
     "output_type": "execute_result"
    }
   ],
   "source": [
    "XLSX.readtable(example_xlsx, \"工作表1\", \"D\", first_row=2, header=true)"
   ]
  },
  {
   "cell_type": "code",
   "execution_count": null,
   "metadata": {},
   "outputs": [],
   "source": []
  },
  {
   "cell_type": "code",
   "execution_count": null,
   "metadata": {},
   "outputs": [],
   "source": []
  },
  {
   "cell_type": "code",
   "execution_count": null,
   "metadata": {},
   "outputs": [],
   "source": []
  },
  {
   "cell_type": "code",
   "execution_count": null,
   "metadata": {},
   "outputs": [],
   "source": []
  },
  {
   "cell_type": "code",
   "execution_count": null,
   "metadata": {},
   "outputs": [],
   "source": []
  },
  {
   "cell_type": "code",
   "execution_count": null,
   "metadata": {},
   "outputs": [],
   "source": []
  }
 ],
 "metadata": {
  "kernelspec": {
   "display_name": "Julia 1.0.3",
   "language": "julia",
   "name": "julia-1.0"
  },
  "language_info": {
   "file_extension": ".jl",
   "mimetype": "application/julia",
   "name": "julia",
   "version": "1.0.3"
  }
 },
 "nbformat": 4,
 "nbformat_minor": 2
}
