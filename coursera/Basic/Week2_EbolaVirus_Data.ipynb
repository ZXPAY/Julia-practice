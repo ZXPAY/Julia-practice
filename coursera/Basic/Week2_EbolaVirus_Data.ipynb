{
 "cells": [
  {
   "cell_type": "markdown",
   "metadata": {},
   "source": [
    "# Loading Ebola Virus Data\n",
    "Wikipedia data on the West African EVD epidemic\n",
    "https://en.wikipedia.org/wiki/West_African_Ebola_virus_epidemic_timeline_of_reported_cases_and_deaths"
   ]
  },
  {
   "cell_type": "markdown",
   "metadata": {},
   "source": [
    "## Using a spreadsheet to save a website table as a .csv file"
   ]
  },
  {
   "cell_type": "code",
   "execution_count": 6,
   "metadata": {},
   "outputs": [],
   "source": [
    "using DelimitedFiles"
   ]
  },
  {
   "cell_type": "code",
   "execution_count": 7,
   "metadata": {},
   "outputs": [
    {
     "data": {
      "text/plain": [
       "56×10 Array{Any,2}:\n",
       " \"\\ufeffDate\"     \"Total\"      \"\"        …     \"\"        \"Sources\"     \n",
       " \"\"               \"Cases\"      \"Deaths\"        \"Deaths\"  \"\"            \n",
       " \"25-Nov-15\"      \"28,637\"     \"11,314\"        \"3,955\"   \"[note 1][13]\"\n",
       " \"18-Nov-15\"      \"28,634\"     \"11,314\"        \"3,955\"   \"[note 2][14]\"\n",
       " \"11-Nov-15\"      \"28,635\"     \"11,314\"        \"3,955\"   \"[note 3][15]\"\n",
       " \"4-Nov-15\"       \"28,607\"     \"11,314\"  …     \"3,955\"   \"[note 4][16]\"\n",
       " \"25-Oct-15\"      \"28,539\"     \"11,298\"        \"3,955\"   \"[note 5][17]\"\n",
       " \"18-Oct-15\"      \"28,476\"     \"11,298\"        \"3,955\"   \"[18]\"        \n",
       " \"11-Oct-15\"      \"28,454\"     \"11,297\"        \"3,955\"   \"[note 6][19]\"\n",
       " \"27-Sep-15\"      \"28,388\"     \"11,296\"        \"3,955\"   \"[20]\"        \n",
       " \"20-Sep-15\"      \"28,295\"     \"11,295\"  …     \"3,955\"   \"[21]\"        \n",
       " \"13-Sep-15\"      \"28,220\"     \"11,291\"        \"3,953\"   \"[22]\"        \n",
       " \"6-Sep-15\"       \"28,147\"     \"11,291\"        \"3,953\"   \"[23]\"        \n",
       " ⋮                                       ⋱                             \n",
       " \"9-Aug-14\"       \"1,835\"      \"1,011\"      315          \"[66]\"        \n",
       " \"30-Jul-14\"      \"1,437\"   825          …  252          \"[67]\"        \n",
       " \"23-Jul-14\"      \"1,201\"   672             224          \"[68]\"        \n",
       " \"14-Jul-14\"   982          613             197          \"[69]\"        \n",
       " \"2-Jul-14\"    779          481             101          \"[70]\"        \n",
       " \"17-Jun-14\"   528          337              49          \"[71]\"        \n",
       " \"27-May-14\"   309          202          …    5          \"[72]\"        \n",
       " \"12-May-14\"   260          182                \"–\"       \"[73][74]\"    \n",
       " \"1-May-14\"    239          160                \"-\"       \"[75]\"        \n",
       " \"14-Apr-14\"   176          110                \"–\"       \"[76]\"        \n",
       " \"31-Mar-14\"   130           82                \"–\"       \"[77]\"        \n",
       " \"22-Mar-14\"    49           29          …     \"–\"       \"[78]\"        "
      ]
     },
     "execution_count": 7,
     "metadata": {},
     "output_type": "execute_result"
    }
   ],
   "source": [
    "raw_data = DelimitedFiles.readdlm(\"EbolaVirus.csv\", ',')"
   ]
  },
  {
   "cell_type": "code",
   "execution_count": null,
   "metadata": {},
   "outputs": [],
   "source": []
  },
  {
   "cell_type": "code",
   "execution_count": null,
   "metadata": {},
   "outputs": [],
   "source": []
  }
 ],
 "metadata": {
  "kernelspec": {
   "display_name": "Julia 1.0.3",
   "language": "julia",
   "name": "julia-1.0"
  },
  "language_info": {
   "file_extension": ".jl",
   "mimetype": "application/julia",
   "name": "julia",
   "version": "1.0.3"
  }
 },
 "nbformat": 4,
 "nbformat_minor": 2
}
